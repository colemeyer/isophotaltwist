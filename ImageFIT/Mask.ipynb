{
 "cells": [
  {
   "cell_type": "markdown",
   "metadata": {},
   "source": [
    "## Initialization"
   ]
  },
  {
   "cell_type": "code",
   "execution_count": 1,
   "metadata": {
    "scrolled": true
   },
   "outputs": [
    {
     "name": "stdout",
     "output_type": "stream",
     "text": [
      "vl2gUfTOHhNYO4cOEZGL+4X17rDJ5WgdWDIE5cqB\n",
      "Public Data Release Username : colemeyer0\n",
      "Password : ········\n",
      "# Get table list from /Users/colemeyer/opt/anaconda3/lib/python3.8/site-packages/unagi/data/pdr2_wide/pdr2_wide_tables.fits\n"
     ]
    }
   ],
   "source": [
    "import os\n",
    "os.environ['KMP_DUPLICATE_LIB_OK']='True'\n",
    "import sys\n",
    "import copy\n",
    "\n",
    "import time\n",
    "\n",
    "import numpy as np\n",
    "import pandas as pd\n",
    "from scipy import ndimage\n",
    "\n",
    "import astropy.units as u\n",
    "from astropy import wcs\n",
    "from astropy.io import fits\n",
    "from astropy.wcs import WCS\n",
    "from astropy.coordinates import SkyCoord\n",
    "from astropy.stats import sigma_clipped_stats\n",
    "from astropy.visualization import make_lupton_rgb\n",
    "from astropy.utils.data import download_file, clear_download_cache\n",
    "from astropy.utils.data import get_pkg_data_filename\n",
    "\n",
    "from photutils import data_properties\n",
    "from photutils import make_source_mask\n",
    "\n",
    "import matplotlib.pyplot as plt\n",
    "from matplotlib import colors\n",
    "\n",
    "\n",
    "from unagi import config\n",
    "from unagi import hsc\n",
    "from unagi import plotting\n",
    "import unagi.mask as msk\n",
    "from unagi.task import hsc_psf\n",
    "from unagi.task import hsc_cutout\n",
    "\n",
    "from photutils import detect_threshold\n",
    "from photutils import detect_sources\n",
    "from photutils import deblend_sources\n",
    "\n",
    "from astropy.convolution import Gaussian2DKernel\n",
    "\n",
    "import pyimfit\n",
    "pyimfit.__file__\n",
    "print('vl2gUfTOHhNYO4cOEZGL+4X17rDJ5WgdWDIE5cqB')\n",
    "pdr2 = hsc.Hsc(dr='pdr2', rerun='pdr2_wide')"
   ]
  },
  {
   "cell_type": "code",
   "execution_count": 2,
   "metadata": {},
   "outputs": [],
   "source": [
    "def save_to_fits(img, fits_file, wcs=None, header=None, overwrite=True):\n",
    "        if wcs is not None:\n",
    "            wcs_header = wcs.to_header()\n",
    "            img_hdu = fits.PrimaryHDU(img, header=wcs_header)\n",
    "        else:\n",
    "            img_hdu = fits.PrimaryHDU(img)\n",
    "\n",
    "        if os.path.islink(fits_file):\n",
    "            os.unlink(fits_file)\n",
    "\n",
    "        img_hdu.writeto(fits_file, overwrite=overwrite)\n",
    "\n",
    "        return"
   ]
  },
  {
   "cell_type": "markdown",
   "metadata": {},
   "source": [
    "# Define mask functions"
   ]
  },
  {
   "cell_type": "code",
   "execution_count": 3,
   "metadata": {},
   "outputs": [],
   "source": [
    "def seg_remove_cen_obj(seg):\n",
    "        \"\"\"Remove the central object from the segmentation.\"\"\"\n",
    "        seg_copy = copy.deepcopy(seg)\n",
    "        seg_copy[seg == seg[int(seg.shape[0] / 2.0), int(seg.shape[1] / 2.0)]] = 0\n",
    "\n",
    "        return seg_copy"
   ]
  },
  {
   "cell_type": "code",
   "execution_count": 4,
   "metadata": {},
   "outputs": [],
   "source": [
    "def increase_mask_regions(mask, method='uniform', size=7, mask_threshold=0.01):\n",
    "        \"\"\"Increase the size of the mask regions using smoothing algorithm.\"\"\"\n",
    "        mask_arr = mask.astype('int16')\n",
    "        mask_arr[mask_arr > 0] = 100\n",
    "    \n",
    "        if method == 'uniform' or method == 'box':\n",
    "            mask_new = ndimage.uniform_filter(mask_arr, size=size)\n",
    "        elif method == 'gaussian':\n",
    "            mask_new = ndimage.gaussian_filter(\n",
    "                mask_arr, sigma=size, order=0)\n",
    "        else:\n",
    "            raise ValueError(\"Wrong method. Should be uniform or gaussian.\")\n",
    "    \n",
    "        mask_new[mask_new < mask_threshold] = 0\n",
    "        mask_new[mask_new >= mask_threshold] = 1\n",
    "    \n",
    "        return mask_new.astype('uint8')"
   ]
  },
  {
   "cell_type": "code",
   "execution_count": 5,
   "metadata": {},
   "outputs": [],
   "source": [
    "def create_circular_mask(img, center=None, radius=None):\n",
    "    \"\"\"Create a circular mask to apply to an image.\n",
    "    \n",
    "    Based on https://stackoverflow.com/questions/44865023/how-can-i-create-a-circular-mask-for-a-numpy-array\n",
    "    \"\"\"\n",
    "    h, w = img.shape\n",
    "    \n",
    "    if center is None: # use the middle of the image\n",
    "        center = (int(w/2), int(h/2))\n",
    "    if radius is None: # use the smallest distance between the center and image walls\n",
    "        radius = min(center[0], center[1], w-center[0], h-center[1])\n",
    "\n",
    "    Y, X = np.ogrid[:h, :w]\n",
    "    dist_from_center = np.sqrt((X - center[0])**2 + (Y-center[1])**2)\n",
    "\n",
    "    mask = dist_from_center <= radius\n",
    "    return mask"
   ]
  },
  {
   "cell_type": "code",
   "execution_count": 6,
   "metadata": {},
   "outputs": [],
   "source": [
    "def get_mask(galaxy):\n",
    "\n",
    "    cutout = fits.open(cutout_directory+galaxyName+'_cutout.fits')\n",
    "    \n",
    "    RA, Dec, redshift = float(galaxyInfo[galaxy,1]), float(galaxyInfo[galaxy,2]), float(galaxyInfo[galaxy,3])\n",
    "\n",
    "    coord = SkyCoord(RA, Dec, frame='icrs', unit='deg')\n",
    "    \n",
    "    s_phy = 200.0 * u.kpc\n",
    "\n",
    "    filters = 'i'\n",
    "    \n",
    "    label_list = [r\"$\\rm {}$\".format(label) for label in ['Image', 'Mask', 'Variance']]\n",
    "    \n",
    "    i_img = cutout[1].data\n",
    "    i_msk = cutout[2].data\n",
    "    i_var = cutout[3].data\n",
    "    \n",
    "    i_sig = np.sqrt(i_var)\n",
    "    i_s2n = i_img / i_sig\n",
    "    \n",
    "    mask_galaxy = msk.Mask(i_msk, data_release='pdr2')\n",
    "    \n",
    "    mask_detect = mask_galaxy.extract('DETECTED')\n",
    "    mask_bad = mask_galaxy.combine(['NO_DATA', 'SAT'])\n",
    "    \n",
    "    threshold = 2.0\n",
    "    gaussian_sigma = 1.0\n",
    "    npixels = 5\n",
    "    nlevels = 64\n",
    "    contrast = 0.0001\n",
    "    \n",
    "    i_thr = detect_threshold(i_img, threshold, background=None, error=i_sig, mask=mask_bad)\n",
    "    kernel = Gaussian2DKernel(gaussian_sigma, x_size=5, y_size=5)\n",
    "    kernel.normalize()\n",
    "    \n",
    "    i_seg = detect_sources(\n",
    "        i_img, i_thr, npixels=npixels, connectivity=8, filter_kernel=kernel)\n",
    "    \n",
    "    i_seg = deblend_sources(\n",
    "        i_img, i_seg, npixels=npixels, filter_kernel=kernel, \n",
    "        nlevels=nlevels, contrast=contrast, relabel=False)\n",
    "    \n",
    "    seg_cmap = plotting.random_cmap(ncolors=256)\n",
    "    \n",
    "    i_obj = seg_remove_cen_obj(i_seg.data)\n",
    "    \n",
    "    mask_obj = increase_mask_regions(i_obj, method='gaussian', size=3, mask_threshold=3)\n",
    "    \n",
    "    cen_mask = create_circular_mask(i_img, radius=100)\n",
    "    mask_hsc = copy.deepcopy(mask_detect)\n",
    "    mask_hsc[cen_mask] = False\n",
    "\n",
    "    mask_hsc_new = increase_mask_regions(\n",
    "        mask_hsc, method='uniform', size=11, mask_threshold=1)\n",
    "\n",
    "    mask_final = (mask_obj | mask_hsc_new)\n",
    "    \n",
    "    _ = save_to_fits(mask_final, mask_directory+galaxyName+'_mask.fits', overwrite=True)"
   ]
  },
  {
   "cell_type": "markdown",
   "metadata": {},
   "source": [
    "# Loop"
   ]
  },
  {
   "cell_type": "code",
   "execution_count": 7,
   "metadata": {},
   "outputs": [
    {
     "name": "stdout",
     "output_type": "stream",
     "text": [
      "\n",
      "Time Elapsed: 6.11\n"
     ]
    }
   ],
   "source": [
    "start_time = time.time()\n",
    "\n",
    "dir_in = '/Users/colemeyer/Documents/Isophotal Twist/ImageFIT/'\n",
    "cutout_directory = dir_in+'Cutouts/'\n",
    "mask_directory = dir_in+'Masks/'\n",
    "if not os.path.isdir(mask_directory):\n",
    "    os.mkdir(mask_directory)\n",
    "\n",
    "start=1\n",
    "end=5\n",
    "\n",
    "galaxyInfo = np.loadtxt(open(dir_in+\"input.csv\", encoding='utf-8-sig'), dtype='str', delimiter=\",\")\n",
    "\n",
    "for galaxy in range(start-1,end-1):\n",
    "    \n",
    "    galaxyName = str(galaxyInfo[galaxy,0])\n",
    "    \n",
    "    get_mask(galaxy)\n",
    "    \n",
    "end_time = time.time()\n",
    "elapsed_time = end_time - start_time\n",
    "\n",
    "print(\"\\nTime Elapsed: \"'%.2f' % elapsed_time)"
   ]
  },
  {
   "cell_type": "code",
   "execution_count": null,
   "metadata": {},
   "outputs": [],
   "source": []
  }
 ],
 "metadata": {
  "kernelspec": {
   "display_name": "Python 3",
   "language": "python",
   "name": "python3"
  },
  "language_info": {
   "codemirror_mode": {
    "name": "ipython",
    "version": 3
   },
   "file_extension": ".py",
   "mimetype": "text/x-python",
   "name": "python",
   "nbconvert_exporter": "python",
   "pygments_lexer": "ipython3",
   "version": "3.8.5"
  }
 },
 "nbformat": 4,
 "nbformat_minor": 4
}
