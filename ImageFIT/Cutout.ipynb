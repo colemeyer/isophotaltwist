{
 "cells": [
  {
   "cell_type": "markdown",
   "metadata": {},
   "source": [
    "## Initialization"
   ]
  },
  {
   "cell_type": "code",
   "execution_count": 2,
   "metadata": {
    "scrolled": true
   },
   "outputs": [
    {
     "name": "stdout",
     "output_type": "stream",
     "text": [
      "vl2gUfTOHhNYO4cOEZGL+4X17rDJ5WgdWDIE5cqB\n",
      "Public Data Release Username : colemeyer0\n",
      "Password : ········\n",
      "# Get table list from /Users/colemeyer/opt/anaconda3/lib/python3.8/site-packages/unagi/data/pdr2_wide/pdr2_wide_tables.fits\n"
     ]
    }
   ],
   "source": [
    "import os\n",
    "os.environ['KMP_DUPLICATE_LIB_OK']='True'\n",
    "import sys\n",
    "import copy\n",
    "\n",
    "import time\n",
    "\n",
    "import numpy as np\n",
    "import pandas as pd\n",
    "from scipy import ndimage\n",
    "\n",
    "import astropy.units as u\n",
    "from astropy import wcs\n",
    "from astropy.io import fits\n",
    "from astropy.wcs import WCS\n",
    "from astropy.coordinates import SkyCoord\n",
    "from astropy.stats import sigma_clipped_stats\n",
    "from astropy.visualization import make_lupton_rgb\n",
    "from astropy.utils.data import download_file, clear_download_cache\n",
    "from astropy.utils.data import get_pkg_data_filename\n",
    "\n",
    "from photutils import data_properties\n",
    "from photutils import make_source_mask\n",
    "\n",
    "import matplotlib.pyplot as plt\n",
    "from matplotlib import colors\n",
    "\n",
    "\n",
    "from unagi import config\n",
    "from unagi import hsc\n",
    "from unagi import plotting\n",
    "import unagi.mask as msk\n",
    "from unagi.task import hsc_psf\n",
    "from unagi.task import hsc_cutout\n",
    "\n",
    "from photutils import detect_threshold\n",
    "from photutils import detect_sources\n",
    "from photutils import deblend_sources\n",
    "\n",
    "from astropy.convolution import Gaussian2DKernel\n",
    "\n",
    "import pyimfit\n",
    "pyimfit.__file__\n",
    "print('vl2gUfTOHhNYO4cOEZGL+4X17rDJ5WgdWDIE5cqB')\n",
    "pdr2 = hsc.Hsc(dr='pdr2', rerun='pdr2_wide')"
   ]
  },
  {
   "cell_type": "code",
   "execution_count": 3,
   "metadata": {},
   "outputs": [],
   "source": [
    "def save_to_fits(img, fits_file, wcs=None, header=None, overwrite=True):\n",
    "        if wcs is not None:\n",
    "            wcs_header = wcs.to_header()\n",
    "            img_hdu = fits.PrimaryHDU(img, header=wcs_header)\n",
    "        else:\n",
    "            img_hdu = fits.PrimaryHDU(img)\n",
    "\n",
    "        if os.path.islink(fits_file):\n",
    "            os.unlink(fits_file)\n",
    "\n",
    "        img_hdu.writeto(fits_file, overwrite=overwrite)\n",
    "\n",
    "        return"
   ]
  },
  {
   "cell_type": "markdown",
   "metadata": {},
   "source": [
    "# Define cutout function"
   ]
  },
  {
   "cell_type": "code",
   "execution_count": 4,
   "metadata": {},
   "outputs": [],
   "source": [
    "def get_cutout_image(galaxy):\n",
    "\n",
    "    RA, Dec, redshift = float(galaxyInfo[galaxy,1]), float(galaxyInfo[galaxy,2]), float(galaxyInfo[galaxy,3])\n",
    "\n",
    "    coord = SkyCoord(RA, Dec, frame='icrs', unit='deg')\n",
    "\n",
    "    s_phy = 200.0 * u.kpc\n",
    "\n",
    "    filters = 'i'\n",
    "    cutout = hsc_cutout(coord, cutout_size=s_phy, redshift=redshift, filters=filters, \n",
    "                        archive=pdr2, variance=True, mask=True, use_saved=False, verbose=True, save_output=True, \n",
    "                        output_dir=cutout_directory,prefix='PRE')\n",
    "    \n",
    "    oldfilepath = cutout_directory + 'PRE_i.fits'\n",
    "    newfilepath = cutout_directory + galaxyName + '_cutout.fits'\n",
    "    \n",
    "    os.rename(oldfilepath,newfilepath)\n",
    "    "
   ]
  },
  {
   "cell_type": "markdown",
   "metadata": {},
   "source": [
    "# Loop"
   ]
  },
  {
   "cell_type": "code",
   "execution_count": 5,
   "metadata": {},
   "outputs": [
    {
     "name": "stdout",
     "output_type": "stream",
     "text": [
      "# Retrieving cutout image in filter: i\n",
      "# Retrieving cutout image in filter: i\n",
      "# Retrieving cutout image in filter: i\n",
      "# Retrieving cutout image in filter: i\n",
      "# Retrieving cutout image in filter: i\n",
      "# Retrieving cutout image in filter: i\n",
      "# Retrieving cutout image in filter: i\n",
      "# Retrieving cutout image in filter: i\n",
      "# Retrieving cutout image in filter: i\n",
      "# Retrieving cutout image in filter: i\n",
      "# Retrieving cutout image in filter: i\n",
      "# Retrieving cutout image in filter: i\n",
      "# Retrieving cutout image in filter: i\n",
      "# Retrieving cutout image in filter: i\n",
      "# Retrieving cutout image in filter: i\n",
      "# Retrieving cutout image in filter: i\n",
      "# Retrieving cutout image in filter: i\n",
      "# Retrieving cutout image in filter: i\n",
      "# Retrieving cutout image in filter: i\n",
      "# Retrieving cutout image in filter: i\n",
      "\n",
      "Time Elapsed: 190.50\n"
     ]
    }
   ],
   "source": [
    "start_time = time.time()\n",
    "\n",
    "dir_in = '/Users/colemeyer/Documents/Isophotal Twist/ImageFIT/'\n",
    "cutout_directory = dir_in+'Cutouts/'\n",
    "if not os.path.isdir(cutout_directory):\n",
    "    os.mkdir(cutout_directory)\n",
    "    \n",
    "if not os.path.isfile(dir_in+'input.csv'):\n",
    "    inputFile = np.loadtxt(open(dir_in+\"inputRaw.csv\", encoding='utf-8-sig'), dtype='str', delimiter=\",\")\n",
    "    inputFile = np.delete(inputFile,0,axis=0)\n",
    "    inputFile = np.delete(inputFile,slice(1,6),axis=1)\n",
    "    inputFile = np.delete(inputFile,slice(4,73),axis=1)\n",
    "\n",
    "    DF = pd.DataFrame(inputFile)\n",
    "    DF.to_csv(dir_in+'input.csv',header=False,index=False)\n",
    "\n",
    "start=1\n",
    "end=21\n",
    "\n",
    "galaxyInfo = np.loadtxt(open(dir_in+\"input.csv\", encoding='utf-8-sig'), dtype='str', delimiter=\",\")\n",
    "\n",
    "for galaxy in range(start-1,end-1):\n",
    "    \n",
    "    galaxyName = str(galaxyInfo[galaxy,0])\n",
    "    cutout = get_cutout_image(galaxy)\n",
    "    \n",
    "end_time = time.time()\n",
    "elapsed_time = end_time - start_time\n",
    "\n",
    "print(\"\\nTime Elapsed: \"'%.2f' % elapsed_time)"
   ]
  }
 ],
 "metadata": {
  "kernelspec": {
   "display_name": "Python 3",
   "language": "python",
   "name": "python3"
  },
  "language_info": {
   "codemirror_mode": {
    "name": "ipython",
    "version": 3
   },
   "file_extension": ".py",
   "mimetype": "text/x-python",
   "name": "python",
   "nbconvert_exporter": "python",
   "pygments_lexer": "ipython3",
   "version": "3.8.5"
  }
 },
 "nbformat": 4,
 "nbformat_minor": 4
}
